{
 "cells": [
  {
   "cell_type": "code",
   "execution_count": 12,
   "id": "f00a6dfa",
   "metadata": {},
   "outputs": [],
   "source": [
    "import sys\n",
    "sys.path.append('../ml-api')  # Allow importing from ml-api folder\n",
    "\n",
    "from vader_service import VaderService\n"
   ]
  },
  {
   "cell_type": "code",
   "execution_count": 13,
   "id": "b354609d",
   "metadata": {},
   "outputs": [
    {
     "name": "stdout",
     "output_type": "stream",
     "text": [
      "Text: I love this product!\n",
      "Predicted Sentiment: Positive\n",
      "\n",
      "Text: This is terrible and disappointing.\n",
      "Predicted Sentiment: Negative\n",
      "\n",
      "Text: It’s okay, not the best but not the worst either.\n",
      "Predicted Sentiment: Positive\n",
      "\n"
     ]
    }
   ],
   "source": [
    "# vader_sentiment_demo.ipynb\n",
    "\n",
    "service = VaderService()\n",
    "\n",
    "examples = [\n",
    "    \"I love this product!\",\n",
    "    \"This is terrible and disappointing.\",\n",
    "    \"It’s okay, not the best but not the worst either.\"\n",
    "]\n",
    "\n",
    "for text in examples:\n",
    "    print(f\"Text: {text}\")\n",
    "    print(\"Predicted Sentiment:\", service.analyze(text))\n",
    "    print()\n"
   ]
  }
 ],
 "metadata": {
  "kernelspec": {
   "display_name": "base",
   "language": "python",
   "name": "python3"
  },
  "language_info": {
   "codemirror_mode": {
    "name": "ipython",
    "version": 3
   },
   "file_extension": ".py",
   "mimetype": "text/x-python",
   "name": "python",
   "nbconvert_exporter": "python",
   "pygments_lexer": "ipython3",
   "version": "3.11.5"
  }
 },
 "nbformat": 4,
 "nbformat_minor": 5
}
